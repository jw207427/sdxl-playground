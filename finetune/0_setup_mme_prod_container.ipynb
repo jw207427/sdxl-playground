{
 "cells": [
  {
   "cell_type": "markdown",
   "id": "3bf46b5c",
   "metadata": {},
   "source": [
    "## Setup Hosting Container"
   ]
  },
  {
   "cell_type": "markdown",
   "id": "42616950",
   "metadata": {},
   "source": [
    "For production workload, we recommend to built a custom MME container with stable diffusion base model and custom packages pre-installed. This has 2 advantages over the other solution which extend the container on the fly wiht the setup model:\n",
    "\n",
    "1) Multi-instance scalability: as of today, there is no control over placement of the setup model behind MME endpoints. Therefore when you scale to multiple instances, it's not posible to guarantee you can preload the base stable diffusion model and conda environment on the each instance. Custom containers preloads all shared components and ensure they are available on every instance.\n",
    "\n",
    "2) Improve cold start: when we invoke a MME model for the first time, every single model will install the conda environment leads to unnecessary overhead. Using custom container, we will directly install the package onto the container. This shave off 10-20s when cold start a model and reduce the redundency of installing the same conda package for each model.\n",
    "\n",
    "This notebook is tested on a `ml.g4dn.2xlarge` SageMaker notebook instance using a `conda_pytorch_p310` kernel. **DO NOT use SageMaker Studio**"
   ]
  },
  {
   "cell_type": "code",
   "execution_count": null,
   "id": "5d7d2d80",
   "metadata": {
    "scrolled": true
   },
   "outputs": [],
   "source": [
    "!pip install -Uq nvidia-pyindex \n",
    "!pip install -Uq tritonclient[http]\n",
    "!pip install -Uq sagemaker ipywidgets pillow numpy \n",
    "!pip install -Uq transformers==4.26\n",
    "# !pip install -Uq diffusers==0.25.0 Use newer version of diffusers for LCM\n",
    "!pip install -Uq diffusers==0.21.4\n",
    "!pip install -Uq accelerate==0.22.0"
   ]
  },
  {
   "cell_type": "code",
   "execution_count": null,
   "id": "224899cd",
   "metadata": {},
   "outputs": [],
   "source": [
    "import boto3\n",
    "import sagemaker\n",
    "from sagemaker import get_execution_role\n",
    "\n",
    "import tritonclient.http as httpclient\n",
    "from tritonclient.utils import *\n",
    "import time\n",
    "from PIL import Image\n",
    "import numpy as np\n",
    "\n",
    "# variables\n",
    "s3_client = boto3.client(\"s3\")\n",
    "\n",
    "# sagemaker variables\n",
    "role = get_execution_role()\n",
    "sm_client = boto3.client(service_name=\"sagemaker\")\n",
    "runtime_sm_client = boto3.client(\"sagemaker-runtime\")\n",
    "sagemaker_session = sagemaker.Session(boto_session=boto3.Session())\n",
    "region = sagemaker_session.boto_region_name\n",
    "account = sagemaker_session.account_id()\n",
    "bucket = sagemaker_session.default_bucket()\n",
    "\n",
    "prefix = \"stable-diffusion-dreambooth\""
   ]
  },
  {
   "cell_type": "markdown",
   "id": "68be45bc",
   "metadata": {},
   "source": [
    "### Import and Save Stable Diffusion Model\n",
    "\n",
    "uncomment the code to use LCM. this is distill version of SD to enable fast inference. Please read more [here](https://huggingface.co/docs/diffusers/main/en/using-diffusers/inference_with_lcm_lora)"
   ]
  },
  {
   "cell_type": "code",
   "execution_count": null,
   "id": "29f1445d",
   "metadata": {
    "scrolled": true
   },
   "outputs": [],
   "source": [
    "from diffusers import (\n",
    "    DiffusionPipeline, \n",
    "#     UNet2DConditionModel, \n",
    "#     LCMScheduler\n",
    ")\n",
    "\n",
    "import torch \n",
    "\n",
    "model_name_base = \"stabilityai/stable-diffusion-xl-base-1.0\"\n",
    "# lcm_unet_id = \"latent-consistency/lcm-sdxl\"\n",
    "\n",
    "# unet = UNet2DConditionModel.from_pretrained(\n",
    "#     lcm_unet_id,\n",
    "#     torch_dtype=torch.float16,\n",
    "#     variant=\"fp16\",\n",
    "# )\n",
    "    \n",
    "pipe = DiffusionPipeline.from_pretrained(\n",
    "    model_name_base,\n",
    "#     unet=unet,\n",
    "    torch_dtype=torch.float16,\n",
    ")\n",
    "# pipe.scheduler = LCMScheduler.from_config(pipe.scheduler.config)"
   ]
  },
  {
   "cell_type": "code",
   "execution_count": null,
   "id": "2658e186",
   "metadata": {},
   "outputs": [],
   "source": [
    "sd_dir = 'stable_diff'\n",
    "pipe.save_pretrained(sd_dir)"
   ]
  },
  {
   "cell_type": "code",
   "execution_count": null,
   "id": "31871851",
   "metadata": {},
   "outputs": [],
   "source": [
    "import os\n",
    "import tarfile\n",
    "\n",
    "sd_tar = f\"docker/{sd_dir}.tar.gz\"\n",
    "\n",
    "def make_tarfile(output_filename, source_dir):\n",
    "    with tarfile.open(output_filename, \"w:gz\") as tar:\n",
    "        tar.add(source_dir, arcname=os.path.basename(source_dir))\n",
    "\n",
    "make_tarfile(sd_tar, sd_dir)"
   ]
  },
  {
   "cell_type": "markdown",
   "id": "77eb85a2",
   "metadata": {},
   "source": [
    "### Extend SageMaker Managed Triton Container"
   ]
  },
  {
   "cell_type": "code",
   "execution_count": null,
   "id": "1e1b85b3",
   "metadata": {},
   "outputs": [],
   "source": [
    "# account mapping for SageMaker Triton Image\n",
    "account_id_map = {\n",
    "    \"us-east-1\": \"785573368785\",\n",
    "    \"us-east-2\": \"007439368137\",\n",
    "    \"us-west-1\": \"710691900526\",\n",
    "    \"us-west-2\": \"301217895009\",\n",
    "    \"eu-west-1\": \"802834080501\",\n",
    "    \"eu-west-2\": \"205493899709\",\n",
    "    \"eu-west-3\": \"254080097072\",\n",
    "    \"eu-north-1\": \"601324751636\",\n",
    "    \"eu-south-1\": \"966458181534\",\n",
    "    \"eu-central-1\": \"746233611703\",\n",
    "    \"ap-east-1\": \"110948597952\",\n",
    "    \"ap-south-1\": \"763008648453\",\n",
    "    \"ap-northeast-1\": \"941853720454\",\n",
    "    \"ap-northeast-2\": \"151534178276\",\n",
    "    \"ap-southeast-1\": \"324986816169\",\n",
    "    \"ap-southeast-2\": \"355873309152\",\n",
    "    \"cn-northwest-1\": \"474822919863\",\n",
    "    \"cn-north-1\": \"472730292857\",\n",
    "    \"sa-east-1\": \"756306329178\",\n",
    "    \"ca-central-1\": \"464438896020\",\n",
    "    \"me-south-1\": \"836785723513\",\n",
    "    \"af-south-1\": \"774647643957\",\n",
    "}\n",
    "\n",
    "\n",
    "\n",
    "region = boto3.Session().region_name\n",
    "if region not in account_id_map.keys():\n",
    "    raise (\"UNSUPPORTED REGION\")\n",
    "\n",
    "base = \"amazonaws.com.cn\" if region.startswith(\"cn-\") else \"amazonaws.com\"\n",
    "mme_triton_image_uri = (\n",
    "    \"{account_id}.dkr.ecr.{region}.{base}/sagemaker-tritonserver:22.12-py3\".format(\n",
    "        account_id=account_id_map[region], region=region, base=base\n",
    "    )\n",
    ")\n",
    "triton_account_id = account_id_map[region]\n",
    "mme_triton_image_uri"
   ]
  },
  {
   "cell_type": "markdown",
   "id": "139303f7",
   "metadata": {},
   "source": [
    "Preview docker file"
   ]
  },
  {
   "cell_type": "code",
   "execution_count": null,
   "id": "33c7bfe9",
   "metadata": {},
   "outputs": [],
   "source": [
    "!cat docker/Dockerfile"
   ]
  },
  {
   "cell_type": "markdown",
   "id": "1e98ce41",
   "metadata": {},
   "source": [
    "Create new container"
   ]
  },
  {
   "cell_type": "code",
   "execution_count": null,
   "id": "d7952020",
   "metadata": {},
   "outputs": [],
   "source": [
    "# Change this var to change the name of new container image\n",
    "new_image_name = f\"sagemaker-tritonserver-{prefix}-prod\""
   ]
  },
  {
   "cell_type": "code",
   "execution_count": null,
   "id": "b1a634d1",
   "metadata": {},
   "outputs": [],
   "source": [
    "%%capture build_output\n",
    "!cd docker && bash build_and_push.sh \"$new_image_name\" \"latest\" \"$mme_triton_image_uri\" \"$region\" \"$account\" \"$triton_account_id\""
   ]
  },
  {
   "cell_type": "code",
   "execution_count": null,
   "id": "cf0a9e36",
   "metadata": {
    "scrolled": false
   },
   "outputs": [],
   "source": [
    "print(build_output)\n",
    "if 'Error response from daemon' in str(build_output):    \n",
    "    raise SystemExit('\\n\\n!!There was an error with the container build!!')\n",
    "else:\n",
    "    extended_triton_image_uri = str(build_output).strip().split('\\n')[-1]"
   ]
  },
  {
   "cell_type": "markdown",
   "id": "c4af9987",
   "metadata": {},
   "source": [
    "Store new container image uri from ECR"
   ]
  },
  {
   "cell_type": "code",
   "execution_count": null,
   "id": "dca4a025",
   "metadata": {},
   "outputs": [],
   "source": [
    "%store extended_triton_image_uri\n",
    "extended_triton_image_uri"
   ]
  },
  {
   "cell_type": "code",
   "execution_count": null,
   "id": "b219f331",
   "metadata": {},
   "outputs": [],
   "source": []
  }
 ],
 "metadata": {
  "kernelspec": {
   "display_name": "conda_pytorch_p310",
   "language": "python",
   "name": "conda_pytorch_p310"
  },
  "language_info": {
   "codemirror_mode": {
    "name": "ipython",
    "version": 3
   },
   "file_extension": ".py",
   "mimetype": "text/x-python",
   "name": "python",
   "nbconvert_exporter": "python",
   "pygments_lexer": "ipython3",
   "version": "3.10.13"
  }
 },
 "nbformat": 4,
 "nbformat_minor": 5
}
